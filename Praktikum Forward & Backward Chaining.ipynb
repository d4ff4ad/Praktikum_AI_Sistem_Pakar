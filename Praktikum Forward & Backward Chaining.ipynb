{
  "nbformat": 4,
  "nbformat_minor": 0,
  "metadata": {
    "colab": {
      "provenance": [],
      "toc_visible": true,
      "authorship_tag": "ABX9TyOfnu8hB8vm1/yuxIhogOhV",
      "include_colab_link": true
    },
    "kernelspec": {
      "name": "python3",
      "display_name": "Python 3"
    },
    "language_info": {
      "name": "python"
    }
  },
  "cells": [
    {
      "cell_type": "markdown",
      "metadata": {
        "id": "view-in-github",
        "colab_type": "text"
      },
      "source": [
        "<a href=\"https://colab.research.google.com/github/d4ff4ad/Praktikum_AI_Sistem_Pakar/blob/main/Praktikum%20Forward%20%26%20Backward%20Chaining.ipynb\" target=\"_parent\"><img src=\"https://colab.research.google.com/assets/colab-badge.svg\" alt=\"Open In Colab\"/></a>"
      ]
    },
    {
      "cell_type": "markdown",
      "source": [
        "**Sistem Pakar**"
      ],
      "metadata": {
        "id": "kBJCjqTH4Sdg"
      }
    },
    {
      "cell_type": "code",
      "execution_count": 3,
      "metadata": {
        "colab": {
          "base_uri": "https://localhost:8080/"
        },
        "id": "NK12LJBo4HEK",
        "outputId": "7f24ca37-c688-463e-ce43-1315885afa1e"
      },
      "outputs": [
        {
          "output_type": "stream",
          "name": "stdout",
          "text": [
            "Collecting experta\n",
            "  Downloading experta-1.9.4-py3-none-any.whl.metadata (5.0 kB)\n",
            "Collecting frozendict==1.2 (from experta)\n",
            "  Downloading frozendict-1.2.tar.gz (2.6 kB)\n",
            "  Preparing metadata (setup.py) ... \u001b[?25l\u001b[?25hdone\n",
            "Collecting schema==0.6.7 (from experta)\n",
            "  Downloading schema-0.6.7-py2.py3-none-any.whl.metadata (14 kB)\n",
            "Downloading experta-1.9.4-py3-none-any.whl (35 kB)\n",
            "Downloading schema-0.6.7-py2.py3-none-any.whl (14 kB)\n",
            "Building wheels for collected packages: frozendict\n",
            "  Building wheel for frozendict (setup.py) ... \u001b[?25l\u001b[?25hdone\n",
            "  Created wheel for frozendict: filename=frozendict-1.2-py3-none-any.whl size=3149 sha256=351e84ff4a92b01d02bdd9ac63ccadad5207a898b4a3de6f473fbe3674b170e7\n",
            "  Stored in directory: /root/.cache/pip/wheels/49/ac/f8/cb8120244e710bdb479c86198b03c7b08c3c2d3d2bf448fd6e\n",
            "Successfully built frozendict\n",
            "Installing collected packages: schema, frozendict, experta\n",
            "  Attempting uninstall: frozendict\n",
            "    Found existing installation: frozendict 2.4.6\n",
            "    Uninstalling frozendict-2.4.6:\n",
            "      Successfully uninstalled frozendict-2.4.6\n",
            "\u001b[31mERROR: pip's dependency resolver does not currently take into account all the packages that are installed. This behaviour is the source of the following dependency conflicts.\n",
            "yfinance 0.2.55 requires frozendict>=2.3.4, but you have frozendict 1.2 which is incompatible.\u001b[0m\u001b[31m\n",
            "\u001b[0mSuccessfully installed experta-1.9.4 frozendict-1.2 schema-0.6.7\n"
          ]
        }
      ],
      "source": [
        "!pip install experta"
      ]
    },
    {
      "cell_type": "code",
      "source": [
        "!pip install --upgrade frozendict"
      ],
      "metadata": {
        "colab": {
          "base_uri": "https://localhost:8080/"
        },
        "id": "ITImzSZW5V9r",
        "outputId": "f32cb407-7fbe-4cd6-f43f-62af2211d335"
      },
      "execution_count": 4,
      "outputs": [
        {
          "output_type": "stream",
          "name": "stdout",
          "text": [
            "Requirement already satisfied: frozendict in /usr/local/lib/python3.11/dist-packages (1.2)\n",
            "Collecting frozendict\n",
            "  Downloading frozendict-2.4.6-py311-none-any.whl.metadata (23 kB)\n",
            "Downloading frozendict-2.4.6-py311-none-any.whl (16 kB)\n",
            "Installing collected packages: frozendict\n",
            "  Attempting uninstall: frozendict\n",
            "    Found existing installation: frozendict 1.2\n",
            "    Uninstalling frozendict-1.2:\n",
            "      Successfully uninstalled frozendict-1.2\n",
            "\u001b[31mERROR: pip's dependency resolver does not currently take into account all the packages that are installed. This behaviour is the source of the following dependency conflicts.\n",
            "experta 1.9.4 requires frozendict==1.2, but you have frozendict 2.4.6 which is incompatible.\u001b[0m\u001b[31m\n",
            "\u001b[0mSuccessfully installed frozendict-2.4.6\n"
          ]
        }
      ]
    },
    {
      "cell_type": "markdown",
      "source": [
        "**Diagnosa Penyakit Menggunakan Forward Chaining**"
      ],
      "metadata": {
        "id": "EEbheEDTBPU0"
      }
    },
    {
      "cell_type": "code",
      "source": [
        "from experta import *\n",
        "\n",
        "class Diagnostic(KnowledgeEngine):\n",
        "    @Rule(Fact(cough=True) & Fact(fever=True) & Fact(fatigue=True))\n",
        "    def flu(self):\n",
        "        print(\"Diagnosis: You may have the flu.\")\n",
        "\n",
        "    @Rule(Fact(cough=True) & Fact(fever=True) & Fact(breathing_difficulty=True))\n",
        "    def pneumonia(self):\n",
        "        print(\"Diagnosis: You may have pneumonia.\")\n",
        "\n",
        "    @Rule(Fact(sneezing=True) & Fact(runny_nose=True) & Fact(cough=False))\n",
        "    def cold(self):\n",
        "        print(\"Diagnosis: You may have a cold.\")\n",
        "\n",
        "    @Rule(Fact(sore_throat=True) & Fact(fever=True))\n",
        "    def throat_infection(self):\n",
        "        print(\"Diagnosis: You may have a throat infection.\")\n",
        "\n",
        "    @Rule(Fact(headache=True) & Fact(cheerful=True))\n",
        "    def migraine(self):\n",
        "        print(\"Diagnosis: You may have a migraine.\")\n",
        "\n",
        "    @Rule(Fact(headache=True) & Fact(chest_pain=True))\n",
        "    def chest_pain(self):\n",
        "        print(\"Diagnosis: You may have a chest pain.\")\n",
        "\n",
        "    @Rule(Fact(headache=True) & Fact(back_pain=True))\n",
        "    def back_pain(self):\n",
        "        print(\"Diagnosis: You may have a back pain.\")\n",
        "\n",
        "    @Rule(Fact(bloated=True) & Fact(Nauseous=True))\n",
        "    def Have_a_cold(self):\n",
        "        print(\"Diagnosis: You may have a have a cold.\")\n",
        "\n",
        "    @Rule(Fact(cough=False) & Fact(fever=False) & Fact(fatigue=False) & Fact(breathing_difficulty=False) & Fact(sneezing=False) & Fact(runny_nose=False) & Fact(sore_throat=False) & Fact(headache=False) & Fact(cheerful=False) & Fact(chest_pain=False) & Fact(back_pain=False) & Fact(bloated=False) & Fact(Nauseous=False))\n",
        "    def healthy(self):\n",
        "        print(\"Diagnosis: You seem to be healthy.\")\n",
        "\n",
        "\n",
        "\n",
        "def get_input():\n",
        "    def ask_question(question):\n",
        "        return input(question + \" Yes/No: \").strip().lower() == \"yes\"\n",
        "\n",
        "    return {\n",
        "        \"cough\": ask_question(\"Do you have a cough?\"),\n",
        "        \"fever\": ask_question(\"Do you have a fever?\"),\n",
        "        \"fatigue\": ask_question(\"Do you feel fatigue?\"),\n",
        "        \"breathing_difficulty\": ask_question(\"Do you have breathing difficulty?\"),\n",
        "        \"sneezing\": ask_question(\"Do you have sneezing?\"),\n",
        "        \"runny_nose\": ask_question(\"Do you have a runny nose?\"),\n",
        "        \"sore_throat\": ask_question(\"Do you have a sore throat?\"),\n",
        "        \"headache\": ask_question(\"Do you have a headache?\"),\n",
        "        \"cheerful\": ask_question(\"Do you feel cheerful?\"),\n",
        "        \"chest_pain\": ask_question(\"Do you have a chest pain?\"),\n",
        "        \"back_pain\": ask_question(\"Do you have a back pain?\"),\n",
        "        \"bloated\": ask_question(\"Do you have a bloated?\"),\n",
        "        \"Nauseous\": ask_question(\"Do you have a Nauseous?\")\n",
        "\n",
        "    }\n",
        "\n",
        "\n",
        "if __name__ == \"__main__\":\n",
        "    symptoms = get_input()\n",
        "    engine = Diagnostic()\n",
        "    engine.reset()\n",
        "\n",
        "    for symptom, present in symptoms.items():\n",
        "        engine.declare(Fact(**{symptom: present}))\n",
        "\n",
        "    engine.run()\n"
      ],
      "metadata": {
        "colab": {
          "base_uri": "https://localhost:8080/"
        },
        "id": "zJPnovgp522p",
        "outputId": "7f78dc07-9f79-4f8f-ad0d-27fd7cac046f"
      },
      "execution_count": 18,
      "outputs": [
        {
          "output_type": "stream",
          "name": "stdout",
          "text": [
            "Do you have a cough? Yes/No: y\n",
            "Do you have a fever? Yes/No: n\n",
            "Do you feel fatigue? Yes/No: n\n",
            "Do you have breathing difficulty? Yes/No: n\n",
            "Do you have sneezing? Yes/No: n\n",
            "Do you have a runny nose? Yes/No: n\n",
            "Do you have a sore throat? Yes/No: n\n",
            "Do you have a headache? Yes/No: n\n",
            "Do you feel cheerful? Yes/No: n\n",
            "Do you have a chest pain? Yes/No: n\n",
            "Do you have a back pain? Yes/No: n\n",
            "Do you have a bloated? Yes/No: yes\n",
            "Do you have a Nauseous? Yes/No: yes\n",
            "Diagnosis: You may have a have a cold.\n"
          ]
        }
      ]
    },
    {
      "cell_type": "markdown",
      "source": [
        "**Sistem Pakar Backward Chaining**"
      ],
      "metadata": {
        "id": "Qyeej7myDFZw"
      }
    },
    {
      "cell_type": "code",
      "source": [
        "from experta import*\n",
        "\n",
        "class SistemPakarMedis(KnowledgeEngine):\n",
        "\n",
        "    @Rule(Fact(demam=True) & Fact(batuk=True))\n",
        "    def flu(self):\n",
        "      print(\"Diagnosis: flu.\")\n",
        "    @Rule(Fact(sakit_tenggorokan=True) & Fact(demam=True))\n",
        "    def throat_infection(self):\n",
        "      print(\"Diagnosis: Radang tenggorokan.\")\n",
        "    @Rule(Fact(kepala_berat=True) & Fact(puyeng=True))\n",
        "    def sakit_kepala(self):\n",
        "      print(\"Diagnosis: sakit kepala.\")\n",
        "\n",
        "#running the expert sistem\n",
        "engine = SistemPakarMedis()\n",
        "engine.reset()\n",
        "engine.declare(Fact(puyeng=True))\n",
        "engine.declare(Fact(kepala_berat=True))\n",
        "engine.run()\n",
        "\n",
        "\n",
        "\n"
      ],
      "metadata": {
        "colab": {
          "base_uri": "https://localhost:8080/"
        },
        "id": "vDzYU01UDI0S",
        "outputId": "4a291328-1889-42b7-9c7d-2025cbab1049"
      },
      "execution_count": null,
      "outputs": [
        {
          "output_type": "stream",
          "name": "stdout",
          "text": [
            "Diagnosis: sakit kepala.\n"
          ]
        }
      ]
    },
    {
      "cell_type": "markdown",
      "source": [
        "**Forward chaining while**"
      ],
      "metadata": {
        "id": "dk1XdTDIH7R6"
      }
    },
    {
      "cell_type": "code",
      "source": [
        "def forward_chaining(facts,rules):\n",
        "  inferred = set(facts)\n",
        "  changed = True\n",
        "\n",
        "  while changed:\n",
        "    changed = False\n",
        "    for rule in rules:\n",
        "      if rule[\"if\"].issubset(inferred) and rule[\"then\"] not in inferred:\n",
        "        inferred.add(rule[\"then\"])\n",
        "        changed = True\n",
        "\n",
        "  return inferred\n",
        "\n",
        "\n",
        "facts = {\"has_feathers\",\"has_beak\",\"cannot_fly\"}\n",
        "rules = [\n",
        "  {\"if\":{\"has_feathers\",\"has_beak\"},\"then\":\"is_bird\"},\n",
        "  {\"if\":{\"lays_eggs\",\"is_bird\"},\"then\":\"is_chicken\"},\n",
        "  {\"if\":{\"cannot_fly\",\"is_bird\"},\"then\":\"is_pinguin\"}\n",
        "\n",
        "\n",
        "]\n",
        "\n",
        "result = forward_chaining(facts,rules)\n",
        "print(\"Inferred facts:\",result)"
      ],
      "metadata": {
        "colab": {
          "base_uri": "https://localhost:8080/"
        },
        "id": "Ozs_xN3fH-Q3",
        "outputId": "411af36a-fd79-45b2-a68b-cc167347f504"
      },
      "execution_count": null,
      "outputs": [
        {
          "output_type": "stream",
          "name": "stdout",
          "text": [
            "Inferred facts: {'has_feathers', 'is_bird', 'has_beak', 'is_pinguin', 'cannot_fly'}\n"
          ]
        }
      ]
    },
    {
      "cell_type": "markdown",
      "source": [
        "**Backward Chaining**"
      ],
      "metadata": {
        "id": "SIeGcvStNAHY"
      }
    },
    {
      "cell_type": "code",
      "source": [
        "def backward_chaining(goal, facts, rules):\n",
        "    if goal in facts:\n",
        "        return True\n",
        "    for rule in rules:\n",
        "        if rule[\"then\"] == goal:\n",
        "            if all(backward_chaining(cond, facts, rules) for cond in rule[\"if\"]):\n",
        "                return True\n",
        "    return False\n",
        "\n",
        "\n",
        "facts = {\"likes_computers\", \"solves_problems\", \"likes_programming\"}\n",
        "rules = [\n",
        "    {\"if\": {\"likes_computers\", \"solves_problems\"}, \"then\": \"should_be_engineer\"},\n",
        "    {\"if\": {\"should_be_engineer\", \"likes_programming\"}, \"then\": \"software_engineer\"},\n",
        "\n",
        "]\n",
        "\n",
        "goal = \"software_engineer\"\n",
        "result = backward_chaining(goal, facts, rules)\n",
        "print(f\"Is '{goal}' provable? ->\", result)\n"
      ],
      "metadata": {
        "colab": {
          "base_uri": "https://localhost:8080/"
        },
        "id": "pbbRzIU7NB-q",
        "outputId": "8585cc8a-cdea-4c7d-ce9f-342311af673d"
      },
      "execution_count": null,
      "outputs": [
        {
          "output_type": "stream",
          "name": "stdout",
          "text": [
            "Is 'software_engineer' provable? -> True\n"
          ]
        }
      ]
    },
    {
      "cell_type": "markdown",
      "source": [
        "**Latihan Forward Chaining**"
      ],
      "metadata": {
        "id": "bG3X5vBEQZTN"
      }
    },
    {
      "cell_type": "code",
      "source": [
        "def forward_chaining(facts,rules):\n",
        "  inferred = set(facts)\n",
        "  changed = True\n",
        "\n",
        "  while changed:\n",
        "    changed = False\n",
        "    for rule in rules:\n",
        "      if rule[\"if\"].issubset(inferred) and rule[\"then\"] not in inferred:\n",
        "        inferred.add(rule[\"then\"])\n",
        "        changed = True\n",
        "\n",
        "  return inferred\n",
        "\n",
        "\n",
        "facts = {\"has_wheels\",\"has_engine\",\"has_four_wheels\"}\n",
        "rules = [\n",
        "  {\"if\":{\"has_wheels\",\"has_engine\"},\"then\":\"is_vehicle\"},\n",
        "  {\"if\":{\"is_vehicle\",\"two_wheels\"},\"then\":\"is_motorcycle\"},\n",
        "  {\"if\":{\"is_vehicle\",\"has_four_wheels\"},\"then\":\"is_car\"}\n",
        "\n",
        "\n",
        "]\n",
        "\n",
        "result = forward_chaining(facts,rules)\n",
        "print(\"Inferred facts:\",result)"
      ],
      "metadata": {
        "colab": {
          "base_uri": "https://localhost:8080/"
        },
        "id": "Pj4cboPqQcZb",
        "outputId": "08d78ff3-e838-4f90-a3a1-302f105e996c"
      },
      "execution_count": null,
      "outputs": [
        {
          "output_type": "stream",
          "name": "stdout",
          "text": [
            "Inferred facts: {'has_wheels', 'is_vehicle', 'has_engine', 'has_four_wheels', 'is_car'}\n"
          ]
        }
      ]
    },
    {
      "cell_type": "markdown",
      "source": [
        "**Latihan Backward Chaining**"
      ],
      "metadata": {
        "id": "vhrQzECIRMY3"
      }
    },
    {
      "cell_type": "code",
      "source": [
        "def backward_chaining(goal, facts, rules):\n",
        "    if goal in facts:\n",
        "        return True\n",
        "    for rule in rules:\n",
        "        if rule[\"then\"] == goal:\n",
        "            if all(backward_chaining(cond, facts, rules) for cond in rule[\"if\"]):\n",
        "                return True\n",
        "    return False\n",
        "\n",
        "\n",
        "facts = {\"has_feathers\",\"has_smal_wings\"}\n",
        "rules = [\n",
        "  {\"if\":{\"is_bird\",\"cannot_fly\"},\"then\":\"is_penguin\"},\n",
        "  {\"if\":{\"has_feathers\"},\"then\":\"is_bird\"},\n",
        "  {\"if\":{\"has_smal_wings\"},\"then\":\"cannot_fly\"}\n",
        "]\n",
        "\n",
        "goal = \"is_penguin\"\n",
        "result = backward_chaining(goal, facts, rules)\n",
        "print(f\"Is '{goal}' provable? ->\", result)\n"
      ],
      "metadata": {
        "colab": {
          "base_uri": "https://localhost:8080/"
        },
        "id": "q53745xLROuG",
        "outputId": "72b0c6b6-c33a-45ea-934f-4d8e36b38c76"
      },
      "execution_count": null,
      "outputs": [
        {
          "output_type": "stream",
          "name": "stdout",
          "text": [
            "Is 'is_penguin' provable? -> True\n"
          ]
        }
      ]
    }
  ]
}